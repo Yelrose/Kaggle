{
 "cells": [
  {
   "cell_type": "code",
   "execution_count": 1,
   "metadata": {
    "collapsed": true
   },
   "outputs": [],
   "source": [
    "import glob\n",
    "fn = glob.glob('/home/huangzhengjie/quora_pair/quora_stack/hyperopt_output/train/*.npy')"
   ]
  },
  {
   "cell_type": "code",
   "execution_count": 2,
   "metadata": {
    "collapsed": false
   },
   "outputs": [],
   "source": [
    "import re\n",
    "def pattern(x, f1, f2):\n",
    "    if re.search(f1, x) is None:\n",
    "        return False\n",
    "    if re.search(f2, x) is None:\n",
    "        return False\n",
    "    return True\n",
    "for n in [wd for wd in fn if pattern(wd, 'xgboost_gblinear','\\[zj\\]')]:\n",
    "    print n.split('/')[-1]\n",
    "    loss = float(n.split('/')[-1].split('-')[-2])\n",
    "    print loss"
   ]
  },
  {
   "cell_type": "code",
   "execution_count": 3,
   "metadata": {
    "collapsed": true
   },
   "outputs": [],
   "source": [
    "p1 = [ 'xgboost']\n",
    "p2 = ['\\[zj\\]', '\\[zjb\\]', '\\[wxh\\]']\n",
    "\n",
    "bst = []\n",
    "for pp in p1:\n",
    "    for pp2 in p2:\n",
    "        da = []\n",
    "        for n in [wd for wd in fn if pattern(wd, pp, pp2)]:\n",
    "            name = n.split('/')[-1]\n",
    "            loss = float(n.split('/')[-1].split('-')[-2])\n",
    "            da.append((name, loss))\n",
    "        da = sorted(da, lambda x, y: cmp(x[1], y[1]))[:5]\n",
    "        bst.append((pp+'-'+pp2,da))"
   ]
  },
  {
   "cell_type": "code",
   "execution_count": 4,
   "metadata": {
    "collapsed": false
   },
   "outputs": [],
   "source": [
    "import numpy as np\n",
    "def bagging(fn_list):\n",
    "    xtrs = None\n",
    "    xtes = None\n",
    "    for fn in fn_list:\n",
    "        xtr = np.load('/home/huangzhengjie/quora_pair/quora_stack/hyperopt_output/train/' + fn[0])\n",
    "        xte = np.load('/home/huangzhengjie/quora_pair/quora_stack/hyperopt_output/test/' + fn[0])\n",
    "        if xtrs is None:\n",
    "            xtrs = xtr\n",
    "        else:\n",
    "            xtrs +=  xtr\n",
    "        if xtes is None:\n",
    "            xtes = xte\n",
    "        else:\n",
    "            xtes += xte\n",
    "    xtrs /= len(fn_list)\n",
    "    xtes /= len(fn_list)\n",
    "    return xtrs, xtes"
   ]
  },
  {
   "cell_type": "code",
   "execution_count": 8,
   "metadata": {
    "collapsed": false
   },
   "outputs": [
    {
     "name": "stdout",
     "output_type": "stream",
     "text": [
      "xgboost-\\[zj\\]\n",
      "0.186552862244\n",
      "xgboost-\\[zjb\\]\n",
      "0.182150746352\n",
      "xgboost-\\[wxh\\]\n",
      "0.190170920451\n"
     ]
    }
   ],
   "source": [
    "x_train_mat = []\n",
    "x_test_mat = []\n",
    "col = []\n",
    "for i in range(3):\n",
    "    print bst[i][0]\n",
    "    print bst[i][1][0][1]\n",
    "    x1, x2 = bagging(bst[i][1])\n",
    "    if len(x1.shape) > 1:\n",
    "        x1 = x1.squeeze()\n",
    "    if len(x2.shape) > 1:\n",
    "        x2 = x2.squeeze()\n",
    "    x_train_mat.append(x1)\n",
    "    x_test_mat.append(x2)\n",
    "    col.append(bst[i][0])"
   ]
  },
  {
   "cell_type": "code",
   "execution_count": 9,
   "metadata": {
    "collapsed": false
   },
   "outputs": [],
   "source": [
    "import pandas as pd\n",
    "train_pd = pd.read_csv('../../train.csv')"
   ]
  },
  {
   "cell_type": "code",
   "execution_count": 10,
   "metadata": {
    "collapsed": false
   },
   "outputs": [],
   "source": [
    "for xid, cl in enumerate(col):\n",
    "    train_pd[str(cl)] = x_train_mat[xid]"
   ]
  },
  {
   "cell_type": "code",
   "execution_count": 11,
   "metadata": {
    "collapsed": false
   },
   "outputs": [
    {
     "data": {
      "text/html": [
       "<div>\n",
       "<table border=\"1\" class=\"dataframe\">\n",
       "  <thead>\n",
       "    <tr style=\"text-align: right;\">\n",
       "      <th></th>\n",
       "      <th>xgboost-\\[zj\\]</th>\n",
       "      <th>xgboost-\\[zjb\\]</th>\n",
       "      <th>xgboost-\\[wxh\\]</th>\n",
       "    </tr>\n",
       "  </thead>\n",
       "  <tbody>\n",
       "    <tr>\n",
       "      <th>xgboost-\\[zj\\]</th>\n",
       "      <td>1.000000</td>\n",
       "      <td>0.974998</td>\n",
       "      <td>0.974963</td>\n",
       "    </tr>\n",
       "    <tr>\n",
       "      <th>xgboost-\\[zjb\\]</th>\n",
       "      <td>0.974998</td>\n",
       "      <td>1.000000</td>\n",
       "      <td>0.979895</td>\n",
       "    </tr>\n",
       "    <tr>\n",
       "      <th>xgboost-\\[wxh\\]</th>\n",
       "      <td>0.974963</td>\n",
       "      <td>0.979895</td>\n",
       "      <td>1.000000</td>\n",
       "    </tr>\n",
       "  </tbody>\n",
       "</table>\n",
       "</div>"
      ],
      "text/plain": [
       "                 xgboost-\\[zj\\]  xgboost-\\[zjb\\]  xgboost-\\[wxh\\]\n",
       "xgboost-\\[zj\\]         1.000000         0.974998         0.974963\n",
       "xgboost-\\[zjb\\]        0.974998         1.000000         0.979895\n",
       "xgboost-\\[wxh\\]        0.974963         0.979895         1.000000"
      ]
     },
     "execution_count": 11,
     "metadata": {},
     "output_type": "execute_result"
    }
   ],
   "source": [
    "train_pd[col].corr()"
   ]
  },
  {
   "cell_type": "code",
   "execution_count": null,
   "metadata": {
    "collapsed": true
   },
   "outputs": [],
   "source": []
  }
 ],
 "metadata": {
  "kernelspec": {
   "display_name": "Python 2",
   "language": "python",
   "name": "python2"
  },
  "language_info": {
   "codemirror_mode": {
    "name": "ipython",
    "version": 2
   },
   "file_extension": ".py",
   "mimetype": "text/x-python",
   "name": "python",
   "nbconvert_exporter": "python",
   "pygments_lexer": "ipython2",
   "version": "2.7.6"
  }
 },
 "nbformat": 4,
 "nbformat_minor": 0
}
