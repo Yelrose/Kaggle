{
 "cells": [
  {
   "cell_type": "code",
   "execution_count": 21,
   "metadata": {
    "collapsed": true
   },
   "outputs": [],
   "source": [
    "import glob\n",
    "fn = glob.glob('/home/huangzhengjie/quora_pair/quora_stack/hyperopt_output/train/*.npy')"
   ]
  },
  {
   "cell_type": "code",
   "execution_count": 2,
   "metadata": {
    "collapsed": false
   },
   "outputs": [],
   "source": [
    "import re\n",
    "def pattern(x, f1, f2):\n",
    "    if re.search(f1, x) is None:\n",
    "        return False\n",
    "    if re.search(f2, x) is None:\n",
    "        return False\n",
    "    return True\n",
    "for n in [wd for wd in fn if pattern(wd, 'xgboost_gblinear','\\[zj\\]')]:\n",
    "    print n.split('/')[-1]\n",
    "    loss = float(n.split('/')[-1].split('-')[-2])\n",
    "    print loss"
   ]
  },
  {
   "cell_type": "code",
   "execution_count": 28,
   "metadata": {
    "collapsed": false
   },
   "outputs": [],
   "source": [
    "p1 = [ 'xgboost', 'nn', 'logistic_regression']\n",
    "p2 = ['\\[zj\\]', '\\[zjb\\]', '\\[wxh\\]']\n",
    "bst = []\n",
    "for pp in p1:\n",
    "    for pp2 in p2:\n",
    "        da = []\n",
    "        for n in [wd for wd in fn if pattern(wd, pp, pp2)]:\n",
    "            name = n.split('/')[-1]\n",
    "            loss = float(n.split('/')[-1].split('-')[-2])\n",
    "            da.append((name, loss))\n",
    "        da = sorted(da, lambda x, y: cmp(x[1], y[1]))[:5]\n",
    "        bst.append((pp+'-'+pp2[2:-2],da))\n"
   ]
  },
  {
   "cell_type": "code",
   "execution_count": 29,
   "metadata": {
    "collapsed": false
   },
   "outputs": [],
   "source": [
    "import numpy as np\n",
    "def bagging(fn_list):\n",
    "    xtrs = None\n",
    "    xtes = None\n",
    "    for fn in fn_list:\n",
    "        xtr = np.load('/home/huangzhengjie/quora_pair/quora_stack/hyperopt_output/train/' + fn[0])\n",
    "        xte = np.load('/home/huangzhengjie/quora_pair/quora_stack/hyperopt_output/test/' + fn[0])\n",
    "        if xtrs is None:\n",
    "            xtrs = xtr\n",
    "        else:\n",
    "            xtrs +=  xtr\n",
    "        if xtes is None:\n",
    "            xtes = xte\n",
    "        else:\n",
    "            xtes += xte\n",
    "    xtrs /= len(fn_list)\n",
    "    xtes /= len(fn_list)\n",
    "    return xtrs, xtes"
   ]
  },
  {
   "cell_type": "code",
   "execution_count": 30,
   "metadata": {
    "collapsed": false
   },
   "outputs": [
    {
     "name": "stdout",
     "output_type": "stream",
     "text": [
      "xgboost-zj\n",
      "0.186552862244\n",
      "xgboost-zjb\n",
      "0.182150746352\n",
      "xgboost-wxh\n",
      "0.190170920451\n",
      "nn-zj\n",
      "0.186916765399\n",
      "nn-zjb\n",
      "0.183799792651\n",
      "nn-wxh\n",
      "0.192653776264\n",
      "logistic_regression-zj\n",
      "0.197837593982\n",
      "logistic_regression-zjb\n",
      "0.210405496108\n",
      "logistic_regression-wxh\n",
      "0.217911928804\n"
     ]
    }
   ],
   "source": [
    "x_train_mat = []\n",
    "x_test_mat = []\n",
    "col = []\n",
    "for i in range(len(bst)):\n",
    "    print bst[i][0]\n",
    "    print bst[i][1][0][1]\n",
    "    x1, x2 = bagging(bst[i][1])\n",
    "    if len(x1.shape) > 1:\n",
    "        x1 = x1.squeeze()\n",
    "    if len(x2.shape) > 1:\n",
    "        x2 = x2.squeeze()\n",
    "    x_train_mat.append(x1)\n",
    "    x_test_mat.append(x2)\n",
    "    col.append(bst[i][0])"
   ]
  },
  {
   "cell_type": "code",
   "execution_count": 31,
   "metadata": {
    "collapsed": false
   },
   "outputs": [],
   "source": [
    "import pandas as pd\n",
    "train_pd = pd.read_csv('../../train.csv')"
   ]
  },
  {
   "cell_type": "code",
   "execution_count": 32,
   "metadata": {
    "collapsed": false
   },
   "outputs": [],
   "source": [
    "for xid, cl in enumerate(col):\n",
    "    train_pd[str(cl)] = x_train_mat[xid]"
   ]
  },
  {
   "cell_type": "code",
   "execution_count": 33,
   "metadata": {
    "collapsed": false
   },
   "outputs": [
    {
     "data": {
      "text/html": [
       "<div>\n",
       "<table border=\"1\" class=\"dataframe\">\n",
       "  <thead>\n",
       "    <tr style=\"text-align: right;\">\n",
       "      <th></th>\n",
       "      <th>xgboost-zj</th>\n",
       "      <th>xgboost-zjb</th>\n",
       "      <th>xgboost-wxh</th>\n",
       "      <th>nn-zj</th>\n",
       "      <th>nn-zjb</th>\n",
       "      <th>nn-wxh</th>\n",
       "      <th>logistic_regression-zj</th>\n",
       "      <th>logistic_regression-zjb</th>\n",
       "      <th>logistic_regression-wxh</th>\n",
       "    </tr>\n",
       "  </thead>\n",
       "  <tbody>\n",
       "    <tr>\n",
       "      <th>xgboost-zj</th>\n",
       "      <td>1.000000</td>\n",
       "      <td>0.974998</td>\n",
       "      <td>0.974963</td>\n",
       "      <td>0.996694</td>\n",
       "      <td>0.973875</td>\n",
       "      <td>0.974116</td>\n",
       "      <td>0.991721</td>\n",
       "      <td>0.960871</td>\n",
       "      <td>0.959425</td>\n",
       "    </tr>\n",
       "    <tr>\n",
       "      <th>xgboost-zjb</th>\n",
       "      <td>0.974998</td>\n",
       "      <td>1.000000</td>\n",
       "      <td>0.979895</td>\n",
       "      <td>0.974377</td>\n",
       "      <td>0.994338</td>\n",
       "      <td>0.977561</td>\n",
       "      <td>0.968239</td>\n",
       "      <td>0.977915</td>\n",
       "      <td>0.959678</td>\n",
       "    </tr>\n",
       "    <tr>\n",
       "      <th>xgboost-wxh</th>\n",
       "      <td>0.974963</td>\n",
       "      <td>0.979895</td>\n",
       "      <td>1.000000</td>\n",
       "      <td>0.974101</td>\n",
       "      <td>0.977655</td>\n",
       "      <td>0.994081</td>\n",
       "      <td>0.968430</td>\n",
       "      <td>0.962330</td>\n",
       "      <td>0.977146</td>\n",
       "    </tr>\n",
       "    <tr>\n",
       "      <th>nn-zj</th>\n",
       "      <td>0.996694</td>\n",
       "      <td>0.974377</td>\n",
       "      <td>0.974101</td>\n",
       "      <td>1.000000</td>\n",
       "      <td>0.973922</td>\n",
       "      <td>0.973867</td>\n",
       "      <td>0.992219</td>\n",
       "      <td>0.960513</td>\n",
       "      <td>0.958813</td>\n",
       "    </tr>\n",
       "    <tr>\n",
       "      <th>nn-zjb</th>\n",
       "      <td>0.973875</td>\n",
       "      <td>0.994338</td>\n",
       "      <td>0.977655</td>\n",
       "      <td>0.973922</td>\n",
       "      <td>1.000000</td>\n",
       "      <td>0.979184</td>\n",
       "      <td>0.967489</td>\n",
       "      <td>0.981084</td>\n",
       "      <td>0.961872</td>\n",
       "    </tr>\n",
       "    <tr>\n",
       "      <th>nn-wxh</th>\n",
       "      <td>0.974116</td>\n",
       "      <td>0.977561</td>\n",
       "      <td>0.994081</td>\n",
       "      <td>0.973867</td>\n",
       "      <td>0.979184</td>\n",
       "      <td>1.000000</td>\n",
       "      <td>0.967783</td>\n",
       "      <td>0.964808</td>\n",
       "      <td>0.980090</td>\n",
       "    </tr>\n",
       "    <tr>\n",
       "      <th>logistic_regression-zj</th>\n",
       "      <td>0.991721</td>\n",
       "      <td>0.968239</td>\n",
       "      <td>0.968430</td>\n",
       "      <td>0.992219</td>\n",
       "      <td>0.967489</td>\n",
       "      <td>0.967783</td>\n",
       "      <td>1.000000</td>\n",
       "      <td>0.960254</td>\n",
       "      <td>0.958841</td>\n",
       "    </tr>\n",
       "    <tr>\n",
       "      <th>logistic_regression-zjb</th>\n",
       "      <td>0.960871</td>\n",
       "      <td>0.977915</td>\n",
       "      <td>0.962330</td>\n",
       "      <td>0.960513</td>\n",
       "      <td>0.981084</td>\n",
       "      <td>0.964808</td>\n",
       "      <td>0.960254</td>\n",
       "      <td>1.000000</td>\n",
       "      <td>0.972207</td>\n",
       "    </tr>\n",
       "    <tr>\n",
       "      <th>logistic_regression-wxh</th>\n",
       "      <td>0.959425</td>\n",
       "      <td>0.959678</td>\n",
       "      <td>0.977146</td>\n",
       "      <td>0.958813</td>\n",
       "      <td>0.961872</td>\n",
       "      <td>0.980090</td>\n",
       "      <td>0.958841</td>\n",
       "      <td>0.972207</td>\n",
       "      <td>1.000000</td>\n",
       "    </tr>\n",
       "  </tbody>\n",
       "</table>\n",
       "</div>"
      ],
      "text/plain": [
       "                         xgboost-zj  xgboost-zjb  xgboost-wxh     nn-zj  \\\n",
       "xgboost-zj                 1.000000     0.974998     0.974963  0.996694   \n",
       "xgboost-zjb                0.974998     1.000000     0.979895  0.974377   \n",
       "xgboost-wxh                0.974963     0.979895     1.000000  0.974101   \n",
       "nn-zj                      0.996694     0.974377     0.974101  1.000000   \n",
       "nn-zjb                     0.973875     0.994338     0.977655  0.973922   \n",
       "nn-wxh                     0.974116     0.977561     0.994081  0.973867   \n",
       "logistic_regression-zj     0.991721     0.968239     0.968430  0.992219   \n",
       "logistic_regression-zjb    0.960871     0.977915     0.962330  0.960513   \n",
       "logistic_regression-wxh    0.959425     0.959678     0.977146  0.958813   \n",
       "\n",
       "                           nn-zjb    nn-wxh  logistic_regression-zj  \\\n",
       "xgboost-zj               0.973875  0.974116                0.991721   \n",
       "xgboost-zjb              0.994338  0.977561                0.968239   \n",
       "xgboost-wxh              0.977655  0.994081                0.968430   \n",
       "nn-zj                    0.973922  0.973867                0.992219   \n",
       "nn-zjb                   1.000000  0.979184                0.967489   \n",
       "nn-wxh                   0.979184  1.000000                0.967783   \n",
       "logistic_regression-zj   0.967489  0.967783                1.000000   \n",
       "logistic_regression-zjb  0.981084  0.964808                0.960254   \n",
       "logistic_regression-wxh  0.961872  0.980090                0.958841   \n",
       "\n",
       "                         logistic_regression-zjb  logistic_regression-wxh  \n",
       "xgboost-zj                              0.960871                 0.959425  \n",
       "xgboost-zjb                             0.977915                 0.959678  \n",
       "xgboost-wxh                             0.962330                 0.977146  \n",
       "nn-zj                                   0.960513                 0.958813  \n",
       "nn-zjb                                  0.981084                 0.961872  \n",
       "nn-wxh                                  0.964808                 0.980090  \n",
       "logistic_regression-zj                  0.960254                 0.958841  \n",
       "logistic_regression-zjb                 1.000000                 0.972207  \n",
       "logistic_regression-wxh                 0.972207                 1.000000  "
      ]
     },
     "execution_count": 33,
     "metadata": {},
     "output_type": "execute_result"
    }
   ],
   "source": [
    "train_pd[col].corr()"
   ]
  },
  {
   "cell_type": "code",
   "execution_count": 34,
   "metadata": {
    "collapsed": true
   },
   "outputs": [],
   "source": [
    "for col_id, col_name in enumerate(col):\n",
    "    np.save('/home/huangzhengjie/quora_pair/quora_stack/hyperopt_output_stage2/train/' + col_name +'.npy', x_train_mat[col_id])\n",
    "    np.save('/home/huangzhengjie/quora_pair/quora_stack/hyperopt_output_stage2/test/' + col_name +'.npy', x_test_mat[col_id])"
   ]
  },
  {
   "cell_type": "code",
   "execution_count": 35,
   "metadata": {
    "collapsed": true
   },
   "outputs": [],
   "source": [
    "x_tr = np.concatenate([np.expand_dims(wd, -1) for wd in x_train_mat], axis=-1)\n",
    "x_te = np.concatenate([np.expand_dims(wd, -1) for wd in x_test_mat], axis=-1)"
   ]
  },
  {
   "cell_type": "code",
   "execution_count": 37,
   "metadata": {
    "collapsed": false
   },
   "outputs": [],
   "source": [
    "np.save('/data1/huangzhengjie/hyperopt/train_xlab.npy', x_tr)\n",
    "np.save('/data1/huangzhengjie/hyperopt/test_xlab.npy', x_te)"
   ]
  },
  {
   "cell_type": "code",
   "execution_count": null,
   "metadata": {
    "collapsed": true
   },
   "outputs": [],
   "source": []
  }
 ],
 "metadata": {
  "kernelspec": {
   "display_name": "Python 2",
   "language": "python",
   "name": "python2"
  },
  "language_info": {
   "codemirror_mode": {
    "name": "ipython",
    "version": 2
   },
   "file_extension": ".py",
   "mimetype": "text/x-python",
   "name": "python",
   "nbconvert_exporter": "python",
   "pygments_lexer": "ipython2",
   "version": "2.7.6"
  }
 },
 "nbformat": 4,
 "nbformat_minor": 0
}
